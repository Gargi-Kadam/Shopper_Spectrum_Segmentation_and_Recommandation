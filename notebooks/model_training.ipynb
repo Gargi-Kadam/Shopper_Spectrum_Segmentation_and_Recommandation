{
 "cells": [
  {
   "cell_type": "code",
   "execution_count": null,
   "id": "54e034e9",
   "metadata": {
    "vscode": {
     "languageId": "plaintext"
    }
   },
   "outputs": [],
   "source": [
    "# Model Training\n",
    "\n",
    "import pandas as pd\n",
    "from sklearn.model_selection import train_test_split\n",
    "from sklearn.ensemble import RandomForestClassifier\n",
    "from sklearn.metrics import classification_report\n",
    "\n",
    "rfm = pd.read_csv(\"../data/rfm.csv\")\n",
    "\n",
    "# Example: Convert Monetary into segment labels\n",
    "rfm['Segment'] = pd.qcut(rfm['Monetary'], q=4, labels=[\"Low\", \"Mid\", \"High\", \"Top\"])\n",
    "\n",
    "X = rfm[['Recency', 'Frequency', 'Monetary']]\n",
    "y = rfm['Segment']\n",
    "\n",
    "X_train, X_test, y_train, y_test = train_test_split(X, y, test_size=0.2, random_state=42)\n",
    "\n",
    "model = RandomForestClassifier()\n",
    "model.fit(X_train, y_train)\n",
    "y_pred = model.predict(X_test)\n",
    "\n",
    "print(classification_report(y_test, y_pred))\n"
   ]
  }
 ],
 "metadata": {
  "language_info": {
   "name": "python"
  }
 },
 "nbformat": 4,
 "nbformat_minor": 5
}
